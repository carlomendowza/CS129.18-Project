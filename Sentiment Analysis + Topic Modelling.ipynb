{
 "cells": [
  {
   "cell_type": "code",
   "execution_count": 1,
   "metadata": {},
   "outputs": [],
   "source": [
    "import numpy as np\n",
    "import pandas as pd\n",
    "import os\n",
    "import re\n",
    "import nltk\n",
    "from nltk.corpus import wordnet as wn\n",
    "from sklearn.feature_extraction.text import TfidfVectorizer\n",
    "import warnings\n",
    "from pprint import pprint\n",
    "\n",
    "warnings.filterwarnings('ignore')\n",
    "\n",
    "import gensim\n",
    "import gensim.corpora as corpora\n",
    "from gensim.utils import simple_preprocess\n",
    "from gensim.models import CoherenceModel\n",
    "\n",
    "import logging\n",
    "logging.basicConfig(format='%(asctime)s : %(levelname)s : %(message)s', level=logging.ERROR)\n",
    "\n",
    "import spacy"
   ]
  },
  {
   "cell_type": "code",
   "execution_count": 2,
   "metadata": {},
   "outputs": [
    {
     "name": "stdout",
     "output_type": "stream",
     "text": [
      "[debug] labeled words\n"
     ]
    }
   ],
   "source": [
    "SOURCE_FILE = 'data/posts_data_gab.csv'\n",
    "\n",
    "print('[debug] labeled words')\n",
    "rootdir = \"data\"\n",
    "positive_words = []\n",
    "negative_words = []\n",
    "neutral_words = []\n",
    "\n",
    "for directories, subdirs, files in os.walk(rootdir):\n",
    "    if (os.path.split(directories)[1] == '1' or os.path.split(directories)[1] == '2' or os.path.split(directories)[1] == '3' or os.path.split(directories)[1] == '4'):\n",
    "        for filename in files:\n",
    "            if (filename == 'positive.txt'):\n",
    "                with open(os.path.join(directories, filename)) as f:\n",
    "                    for line in f:\n",
    "                        positive_words.append(line.strip())\n",
    "            if (filename == 'negative.txt'):\n",
    "                with open(os.path.join(directories, filename)) as f:\n",
    "                    for line in f:\n",
    "                        negative_words.append(line.strip())\n",
    "            if (filename == 'neutral.txt'):\n",
    "                with open(os.path.join(directories, filename), encoding='latin-1') as f:\n",
    "                    for line in f:\n",
    "                        neutral_words.append(line.strip())"
   ]
  },
  {
   "cell_type": "code",
   "execution_count": 3,
   "metadata": {},
   "outputs": [],
   "source": [
    "df = pd.read_csv('data/posts_data_gab.csv')\n",
    "data = df['Body']\n",
    "data.dropna(inplace=True)\n",
    "data.drop_duplicates(inplace=True)"
   ]
  },
  {
   "cell_type": "code",
   "execution_count": 4,
   "metadata": {},
   "outputs": [
    {
     "name": "stdout",
     "output_type": "stream",
     "text": [
      "[debug] stopwords\n",
      "[nltk_data] Downloading package stopwords to C:\\nltk_data...\n",
      "[nltk_data]   Package stopwords is already up-to-date!\n",
      "[nltk_data] Downloading package wordnet to C:\\nltk_data...\n",
      "[nltk_data]   Package wordnet is already up-to-date!\n"
     ]
    },
    {
     "data": {
      "text/plain": [
       "True"
      ]
     },
     "execution_count": 4,
     "metadata": {},
     "output_type": "execute_result"
    }
   ],
   "source": [
    "print('[debug] stopwords')\n",
    "nltk.download('stopwords')\n",
    "en_stop = nltk.corpus.stopwords.words('english')\n",
    "en_stop.extend(['from', 'subject', 're', 'edu', 'use'])\n",
    "fil_stop = []\n",
    "with open('assets/stop_words_ph.txt') as f:\n",
    "    for line in f:\n",
    "        fil_stop.append(line.rstrip('\\n')) \n",
    "nltk.download('wordnet')"
   ]
  },
  {
   "cell_type": "code",
   "execution_count": 5,
   "metadata": {},
   "outputs": [],
   "source": [
    "def get_lemma(word):\n",
    "    lemma = wn.morphy(word)\n",
    "    if lemma is None:\n",
    "        return word\n",
    "    else:\n",
    "        return lemma"
   ]
  },
  {
   "cell_type": "code",
   "execution_count": 6,
   "metadata": {},
   "outputs": [
    {
     "name": "stdout",
     "output_type": "stream",
     "text": [
      "[debug] word2vec\n",
      "Words in text data:  24577\n",
      "Unique words: 5630\n"
     ]
    }
   ],
   "source": [
    "print('[debug] word2vec')\n",
    "text_data = []\n",
    "counter = 0\n",
    "index = 0\n",
    "\n",
    "for line in data:\n",
    "    tokens = gensim.utils.simple_preprocess(line)\n",
    "    tokens = [re.sub('\\#ADMUFreedomWall\\ \\d+', '', sent) for sent in tokens]\n",
    "    tokens = [re.sub('\\#ADMUFreedomWall\\d+', '', sent) for sent in tokens]\n",
    "    tokens = [word for word in tokens if word not in fil_stop]\n",
    "    tokens = [word for word in tokens if word not in en_stop]\n",
    "    tokens = [word for word in tokens if len(word) > 2]\n",
    "    tokens = [get_lemma(token) for token in tokens]\n",
    "    \n",
    "    text_data.append(tokens)\n",
    "    counter += len(tokens)\n",
    "    index+=1\n",
    "    \n",
    "print('Words in text data: ', counter)\n",
    "numbers_set = set(i for j in text_data for i in j)\n",
    "print('Unique words:', len(numbers_set))\n",
    "# print()"
   ]
  },
  {
   "cell_type": "code",
   "execution_count": 7,
   "metadata": {},
   "outputs": [
    {
     "data": {
      "text/plain": [
       "(2303600, 2457700)"
      ]
     },
     "execution_count": 7,
     "metadata": {},
     "output_type": "execute_result"
    }
   ],
   "source": [
    "model = gensim.models.Word2Vec(text_data, size=50, window=5, min_count=5, workers=4)\n",
    "model.train(text_data, total_examples=len(text_data) , epochs=100)\n",
    "# For words that dont occur as much\n",
    "model_sparse = gensim.models.Word2Vec(text_data, size=50, window=5, min_count=1, workers=4)\n",
    "model_sparse.train(text_data, total_examples=len(text_data) , epochs=100)"
   ]
  },
  {
   "cell_type": "code",
   "execution_count": 8,
   "metadata": {},
   "outputs": [
    {
     "name": "stdout",
     "output_type": "stream",
     "text": [
      "[debug] tf-idf\n"
     ]
    }
   ],
   "source": [
    "print('[debug] tf-idf')\n",
    "vectorizer = TfidfVectorizer()\n",
    "tfidf_matrix = vectorizer.fit_transform(data)\n",
    "feature_names = vectorizer.get_feature_names()\n",
    "tf_idf_list = []\n",
    "for i in range(len(data)):\n",
    "    sentence_dict = {}\n",
    "    feature_index = tfidf_matrix[i,:].nonzero()[1]\n",
    "    tfidf_scores = zip(feature_index, [tfidf_matrix[i, x] for x in feature_index])\n",
    "    for w, s in [(feature_names[i], s) for (i, s) in tfidf_scores]:\n",
    "        sentence_dict[w] = s\n",
    "    tf_idf_list.append(sentence_dict)"
   ]
  },
  {
   "cell_type": "code",
   "execution_count": 88,
   "metadata": {},
   "outputs": [],
   "source": [
    "def get_sentiment(sentence):\n",
    "    tokens = sentence.split(' ')\n",
    "    sum_score = 0\n",
    "    relevant_words = 0\n",
    "    \n",
    "    for token in tokens:\n",
    "        if token in positive_words:\n",
    "            print(\"Word: \" + token + \", score: 1\")\n",
    "            print()\n",
    "            sum_score += 1\n",
    "            relevant_words += 1\n",
    "        elif token in negative_words:\n",
    "            print(\"Word: \" + token + \", score: -1\")\n",
    "            print()\n",
    "            sum_score -= 1\n",
    "            relevant_words += 1\n",
    "        elif token in neutral_words:\n",
    "            print(\"Word: \" + token)\n",
    "            try:\n",
    "                neighbors = model.wv.most_similar(positive=token, topn=100)\n",
    "            except:\n",
    "                try:\n",
    "                    neighbors = model_sparse.wv.most_similar(positive=token,topn=100)\n",
    "                except:\n",
    "                    pass\n",
    "            for word in neighbors:\n",
    "                if word[0] in positive_words:\n",
    "                    print(\"Nearest labelled word: \" + word[0] + \", score: \" + str(word[1]))\n",
    "                    print()\n",
    "                    sum_score += word[1]\n",
    "                    relevant_words += 1\n",
    "                    break\n",
    "                elif word[0] in negative_words:\n",
    "                    print(\"Nearest labelled word: \" + word[0] + \", score: -\" + str(word[1]))\n",
    "                    print()\n",
    "                    sum_score -= word[1]\n",
    "                    relevant_words += 1\n",
    "                    break\n",
    "        else:\n",
    "            pass\n",
    "#             print('\"' + token + '\" not in model')\n",
    "    val = sum_score/relevant_words\n",
    "    return val"
   ]
  },
  {
   "cell_type": "code",
   "execution_count": 10,
   "metadata": {},
   "outputs": [
    {
     "name": "stdout",
     "output_type": "stream",
     "text": [
      "[debug] start topic modeling part\n"
     ]
    }
   ],
   "source": [
    "# topic modeling part\n",
    "print('[debug] start topic modeling part')\n",
    "text_data = []\n",
    "df = pd.read_csv(SOURCE_FILE)\n",
    "data = df['Body']\n",
    "data.dropna(inplace=True)\n",
    "\n",
    "data = df['Body'].values.tolist()\n",
    "data = [re.sub('\\S*@\\S*\\s?', '', sent) for sent in data]\n",
    "data = [re.sub('\\s+', ' ', sent) for sent in data]\n",
    "data = [re.sub(\"\\'\", \"\", sent) for sent in data]\n",
    "data = [re.sub('\\#ADMUFreedomWall\\ \\d+', '', sent) for sent in data]\n",
    "data = [re.sub('\\#ADMUFreedomWall\\d+', '', sent) for sent in data]"
   ]
  },
  {
   "cell_type": "code",
   "execution_count": 11,
   "metadata": {},
   "outputs": [
    {
     "name": "stdout",
     "output_type": "stream",
     "text": [
      "[debug] tokens\n"
     ]
    }
   ],
   "source": [
    "print('[debug] tokens')\n",
    "def sent_to_words(sentences):\n",
    "    for sentence in sentences:\n",
    "        yield(gensim.utils.simple_preprocess(str(sentence), deacc=True))  # deacc=True removes punctuations\n",
    "data_words = list(sent_to_words(data))"
   ]
  },
  {
   "cell_type": "code",
   "execution_count": 12,
   "metadata": {},
   "outputs": [
    {
     "name": "stdout",
     "output_type": "stream",
     "text": [
      "[debug] bigrams and trigrams\n"
     ]
    }
   ],
   "source": [
    "print('[debug] bigrams and trigrams')print('[debug] bigrams and trigrams')\n",
    "bigram = gensim.models.Phrases(data_words, min_count=5, threshold=100) # higher threshold fewer phrases.\n",
    "trigram = gensim.models.Phrases(bigram[data_words], threshold=100)  \n",
    "bigram_mod = gensim.models.phrases.Phraser(bigram)\n",
    "trigram_mod = gensim.models.phrases.Phraser(trigram) # higher threshold fewer phrases.\n",
    "trigram = gensim.models.Phrases(bigram[data_words], threshold=100)  \n",
    "bigram_mod = gensim.models.phrases.Phraser(bigram)\n",
    "trigram_mod = gensim.models.phrases.Phraser(trigram)"
   ]
  },
  {
   "cell_type": "code",
   "execution_count": 13,
   "metadata": {},
   "outputs": [],
   "source": [
    "def remove_stopwords(texts):\n",
    "    output = [[word for word in simple_preprocess(str(doc)) if (word not in en_stop and word not in fil_stop)] for doc in texts]\n",
    "    return output\n",
    "def make_bigrams(texts):\n",
    "    return [bigram_mod[doc] for doc in texts]\n",
    "def make_trigrams(texts):\n",
    "    return [trigram_mod[bigram_mod[doc]] for doc in texts]\n",
    "def lemmatization(texts, allowed_postags=['NOUN', 'ADJ', 'VERB', 'ADV']):\n",
    "    \"\"\"https://spacy.io/api/annotation\"\"\"\n",
    "    texts_out = []\n",
    "    for sent in texts:\n",
    "        doc = nlp(\" \".join(sent)) \n",
    "        texts_out.append([token.lemma_ for token in doc if token.pos_ in allowed_postags])\n",
    "    return texts_out"
   ]
  },
  {
   "cell_type": "code",
   "execution_count": 14,
   "metadata": {},
   "outputs": [
    {
     "name": "stdout",
     "output_type": "stream",
     "text": [
      "[debug] lemmatize\n"
     ]
    }
   ],
   "source": [
    "print('[debug] lemmatize')\n",
    "data_words_nostops = remove_stopwords(data_words)\n",
    "data_words_bigrams = make_bigrams(data_words_nostops)\n",
    "nlp = spacy.load('en', disable=['parser', 'ner'])\n",
    "data_lemmatized = lemmatization(data_words_bigrams, allowed_postags=['NOUN', 'ADJ', 'VERB', 'ADV'])"
   ]
  },
  {
   "cell_type": "code",
   "execution_count": 15,
   "metadata": {},
   "outputs": [
    {
     "name": "stdout",
     "output_type": "stream",
     "text": [
      "[debug] creating corpus\n"
     ]
    }
   ],
   "source": [
    "print('[debug] creating corpus')\n",
    "id2word = corpora.Dictionary(data_lemmatized)\n",
    "texts = data_lemmatized\n",
    "corpus = [id2word.doc2bow(text) for text in texts]"
   ]
  },
  {
   "cell_type": "code",
   "execution_count": 25,
   "metadata": {},
   "outputs": [
    {
     "name": "stdout",
     "output_type": "stream",
     "text": [
      "[debug] building LDA model\n",
      "Coherence Score:  0.42061005578430144\n"
     ]
    }
   ],
   "source": [
    "print('[debug] building LDA model')\n",
    "num_topics = 20\n",
    "lda_model = gensim.models.ldamodel.LdaModel(corpus=corpus,\n",
    "                                           id2word=id2word,\n",
    "                                           num_topics=num_topics, \n",
    "                                           random_state=100,\n",
    "                                           update_every=1,\n",
    "                                           chunksize=100,\n",
    "                                           passes=10,\n",
    "                                           alpha='auto',\n",
    "                                           per_word_topics=True)\n",
    "doc_lda = lda_model[corpus]\n",
    "mallet_path = 'C:\\\\Mallet/bin/mallet' # update this path\n",
    "ldamallet = gensim.models.wrappers.LdaMallet(mallet_path, corpus=corpus, num_topics=20, id2word=id2word)\n",
    "coherence_model_ldamallet = CoherenceModel(model=ldamallet, texts=data_lemmatized, dictionary=id2word, coherence='c_v')\n",
    "coherence_ldamallet = coherence_model_ldamallet.get_coherence()\n",
    "print('Coherence Score: ', coherence_ldamallet)"
   ]
  },
  {
   "cell_type": "code",
   "execution_count": 26,
   "metadata": {},
   "outputs": [],
   "source": [
    "def compute_coherence_values(dictionary, corpus, texts, limit, start=2, step=3):\n",
    "    coherence_values = []\n",
    "    model_list = []\n",
    "    for num_topics in range(start, limit, step):\n",
    "        model = gensim.models.wrappers.LdaMallet(mallet_path, corpus=corpus, num_topics=num_topics, id2word=id2word)\n",
    "        model_list.append(model)\n",
    "        coherencemodel = CoherenceModel(model=model, texts=texts, dictionary=dictionary, coherence='c_v')\n",
    "        coherence_values.append(coherencemodel.get_coherence())\n",
    "\n",
    "    return model_list, coherence_values\n",
    "\n",
    "optimal_model = ldamallet\n",
    "model_topics = optimal_model.show_topics(formatted=False)"
   ]
  },
  {
   "cell_type": "code",
   "execution_count": 54,
   "metadata": {},
   "outputs": [
    {
     "name": "stdout",
     "output_type": "stream",
     "text": [
      "[debug] topic interpretation\n"
     ]
    }
   ],
   "source": [
    "print('[debug] topic interpretation')\n",
    "counter = 0\n",
    "topic_df = pd.DataFrame()\n",
    "curr_topics = []\n",
    "while True:\n",
    "    try:\n",
    "        curr_topic = optimal_model.show_topic(counter)\n",
    "        curr_topics.append([topic[0] for topic in curr_topic])\n",
    "        counter += 1\n",
    "    except:\n",
    "        break\n",
    "topic_df['Topic Keywords'] = curr_topics"
   ]
  },
  {
   "cell_type": "code",
   "execution_count": 81,
   "metadata": {},
   "outputs": [],
   "source": [
    "def get_topic(sentence):\n",
    "    bow = id2word.doc2bow(simple_preprocess(sentence))\n",
    "    topic_weights = optimal_model[bow]\n",
    "    topic = [t[1] for t in topic_weights]\n",
    "    topic_id = np.argmax(topic)\n",
    "    return (topic_id)\n",
    "\n",
    "def get_sentence(sentence):\n",
    "    test_string = sentence\n",
    "    try:\n",
    "        sent = get_sentiment(test_string)\n",
    "        topic = get_topic(test_string)\n",
    "        print(f'Sentiment: {sent}')\n",
    "        print(f'Topic: {topic}')\n",
    "    except Exception as e:\n",
    "        print('Error:', e)\n",
    "    "
   ]
  },
  {
   "cell_type": "code",
   "execution_count": 82,
   "metadata": {
    "scrolled": true
   },
   "outputs": [
    {
     "name": "stdout",
     "output_type": "stream",
     "text": [
      "[(0,\n",
      "  '0.075*\"school\" + 0.027*\"lot\" + 0.024*\"university\" + 0.019*\"learn\" + '\n",
      "  '0.019*\"turn\" + 0.019*\"care\" + 0.017*\"write\" + 0.017*\"matter\" + '\n",
      "  '0.016*\"light\" + 0.016*\"comment\"'),\n",
      " (1,\n",
      "  '0.067*\"work\" + 0.058*\"hard\" + 0.031*\"sem\" + 0.027*\"group\" + 0.027*\"pass\" + '\n",
      "  '0.027*\"give\" + 0.027*\"cheat\" + 0.026*\"prof\" + 0.024*\"grade\" + 0.024*\"fail\"'),\n",
      " (2,\n",
      "  '0.046*\"hate\" + 0.027*\"die\" + 0.026*\"realize\" + 0.026*\"family\" + '\n",
      "  '0.025*\"joke\" + 0.019*\"kill\" + 0.018*\"notice\" + 0.016*\"depression\" + '\n",
      "  '0.015*\"tweet\" + 0.014*\"freshie\"'),\n",
      " (3,\n",
      "  '0.078*\"people\" + 0.069*\"thing\" + 0.039*\"wrong\" + 0.028*\"problem\" + '\n",
      "  '0.027*\"understand\" + 0.026*\"country\" + 0.021*\"support\" + 0.021*\"agree\" + '\n",
      "  '0.020*\"bad\" + 0.018*\"duterte\"'),\n",
      " (4,\n",
      "  '0.052*\"final\" + 0.038*\"cute\" + 0.032*\"doo_doo\" + 0.027*\"wanna\" + '\n",
      "  '0.025*\"great\" + 0.024*\"tag\" + 0.022*\"open\" + 0.019*\"meme\" + 0.014*\"lie\" + '\n",
      "  '0.014*\"pic\"'),\n",
      " (5,\n",
      "  '0.048*\"hope\" + 0.035*\"stay\" + 0.028*\"point\" + 0.028*\"lose\" + 0.027*\"show\" + '\n",
      "  '0.025*\"give\" + 0.025*\"bring\" + 0.024*\"community\" + 0.021*\"reason\" + '\n",
      "  '0.018*\"fight\"'),\n",
      " (6,\n",
      "  '0.083*\"love\" + 0.048*\"leave\" + 0.019*\"blue\" + 0.018*\"rz\" + 0.017*\"mention\" '\n",
      "  '+ 0.016*\"offer\" + 0.015*\"toxic\" + 0.014*\"picture\" + 0.012*\"experience\" + '\n",
      "  '0.012*\"eat\"'),\n",
      " (7,\n",
      "  '0.070*\"game\" + 0.051*\"basketball\" + 0.050*\"watch\" + 0.042*\"play\" + '\n",
      "  '0.029*\"uaap\" + 0.028*\"call\" + 0.027*\"fan\" + 0.026*\"team\" + 0.023*\"ateneo\" + '\n",
      "  '0.021*\"win\"'),\n",
      " (8,\n",
      "  '0.107*\"make\" + 0.082*\"talk\" + 0.040*\"start\" + 0.036*\"week\" + 0.028*\"guess\" '\n",
      "  '+ 0.023*\"chance\" + 0.022*\"read\" + 0.019*\"put\" + 0.017*\"break\" + '\n",
      "  '0.016*\"mind\"'),\n",
      " (9,\n",
      "  '0.067*\"yung\" + 0.059*\"crush\" + 0.044*\"see_translation\" + 0.027*\"tangina\" + '\n",
      "  '0.018*\"sobrang\" + 0.017*\"gusto\" + 0.015*\"ticket\" + 0.015*\"filipino\" + '\n",
      "  '0.015*\"single\" + 0.015*\"putangina\"'),\n",
      " (10,\n",
      "  '0.107*\"post\" + 0.082*\"person\" + 0.081*\"good\" + 0.052*\"thing\" + 0.043*\"bad\" '\n",
      "  '+ 0.029*\"happen\" + 0.025*\"share\" + 0.013*\"rantbox\" + 0.012*\"type\" + '\n",
      "  '0.012*\"stupid\"'),\n",
      " (11,\n",
      "  '0.047*\"back\" + 0.046*\"study\" + 0.025*\"night\" + 0.024*\"form\" + 0.022*\"email\" '\n",
      "  '+ 0.020*\"home\" + 0.019*\"hear\" + 0.019*\"https\" + 0.019*\"step\" + '\n",
      "  '0.016*\"song\"'),\n",
      " (12,\n",
      "  '0.086*\"people\" + 0.058*\"time\" + 0.031*\"place\" + 0.025*\"long\" + 0.023*\"coco\" '\n",
      "  '+ 0.021*\"internet\" + 0.020*\"day\" + 0.020*\"hurt\" + 0.020*\"group\" + '\n",
      "  '0.018*\"nice\"'),\n",
      " (13,\n",
      "  '0.126*\"feel\" + 0.121*\"friend\" + 0.068*\"time\" + 0.048*\"miss\" + 0.047*\"class\" '\n",
      "  '+ 0.031*\"sad\" + 0.030*\"end\" + 0.029*\"org\" + 0.021*\"make\" + 0.021*\"meet\"'),\n",
      " (14,\n",
      "  '0.062*\"stop\" + 0.061*\"find\" + 0.032*\"kind\" + 0.029*\"anymore\" + '\n",
      "  '0.026*\"month\" + 0.024*\"big\" + 0.023*\"https_www\" + 0.023*\"page\" + '\n",
      "  '0.022*\"close\" + 0.021*\"ago\"'),\n",
      " (15,\n",
      "  '0.129*\"people\" + 0.076*\"life\" + 0.054*\"love\" + 0.053*\"good\" + 0.038*\"make\" '\n",
      "  '+ 0.033*\"world\" + 0.025*\"live\" + 0.024*\"change\" + 0.023*\"deserve\" + '\n",
      "  '0.018*\"call\"'),\n",
      " (16,\n",
      "  '0.124*\"ateneo\" + 0.067*\"student\" + 0.051*\"admu\" + 0.045*\"atenean\" + '\n",
      "  '0.020*\"class\" + 0.018*\"campus\" + 0.017*\"jesuit\" + 0.015*\"dlsu\" + '\n",
      "  '0.014*\"space\" + 0.011*\"building\"'),\n",
      " (17,\n",
      "  '0.121*\"guy\" + 0.069*\"girl\" + 0.045*\"year\" + 0.025*\"pretty\" + 0.024*\"ill\" + '\n",
      "  '0.020*\"heart\" + 0.020*\"fall\" + 0.019*\"damn\" + 0.018*\"meet\" + '\n",
      "  '0.018*\"beautiful\"'),\n",
      " (18,\n",
      "  '0.066*\"fuck\" + 0.061*\"shit\" + 0.021*\"pay\" + 0.019*\"graduate\" + '\n",
      "  '0.019*\"whatev\" + 0.019*\"true\" + 0.019*\"money\" + 0.018*\"water\" + '\n",
      "  '0.016*\"fucking\" + 0.016*\"boyfriend\"'),\n",
      " (19,\n",
      "  '0.035*\"car\" + 0.021*\"date\" + 0.019*\"give\" + 0.018*\"engine\" + 0.016*\"front\" '\n",
      "  '+ 0.015*\"end\" + 0.015*\"nismo\" + 0.014*\"tune\" + 0.013*\"make\" + 0.012*\"low\"')]\n"
     ]
    }
   ],
   "source": [
    "model_topics = optimal_model.show_topics(formatted=False)\n",
    "pprint(optimal_model.print_topics(num_words=10))"
   ]
  },
  {
   "cell_type": "code",
   "execution_count": 92,
   "metadata": {},
   "outputs": [
    {
     "name": "stdout",
     "output_type": "stream",
     "text": [
      "Word: major\n",
      "Nearest labelled word: desperate, score: -0.6196975111961365\n",
      "\n",
      "Word: can\n",
      "Nearest labelled word: desperate, score: -0.6196975111961365\n",
      "\n",
      "Word: do\n",
      "Nearest labelled word: boring, score: -0.49341583251953125\n",
      "\n",
      "Word: final\n",
      "Nearest labelled word: mayabang, score: -0.39030808210372925\n",
      "\n",
      "Word: paper\n",
      "Nearest labelled word: huhu, score: -0.34044116735458374\n",
      "\n",
      "Sentiment: -0.49271202087402344\n",
      "Topic: 1\n"
     ]
    }
   ],
   "source": [
    "get_sentence(\"Looking for any Psych major who can do my Psych 101 final paper for me. Willing to pay. Thanks\")"
   ]
  },
  {
   "cell_type": "code",
   "execution_count": null,
   "metadata": {},
   "outputs": [],
   "source": []
  }
 ],
 "metadata": {
  "kernelspec": {
   "display_name": "Python 3",
   "language": "python",
   "name": "python3"
  },
  "language_info": {
   "codemirror_mode": {
    "name": "ipython",
    "version": 3
   },
   "file_extension": ".py",
   "mimetype": "text/x-python",
   "name": "python",
   "nbconvert_exporter": "python",
   "pygments_lexer": "ipython3",
   "version": "3.7.0"
  }
 },
 "nbformat": 4,
 "nbformat_minor": 2
}
