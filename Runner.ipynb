{
 "cells": [
  {
   "cell_type": "code",
   "execution_count": 1,
   "metadata": {},
   "outputs": [
    {
     "name": "stderr",
     "output_type": "stream",
     "text": [
      "C:\\Users\\Gab\\Anaconda3\\lib\\site-packages\\gensim\\utils.py:1212: UserWarning: detected Windows; aliasing chunkize to chunkize_serial\n",
      "  warnings.warn(\"detected Windows; aliasing chunkize to chunkize_serial\")\n",
      "C:\\Users\\Gab\\Anaconda3\\lib\\importlib\\_bootstrap.py:219: RuntimeWarning: cymem.cymem.Pool size changed, may indicate binary incompatibility. Expected 48 from C header, got 64 from PyObject\n",
      "  return f(*args, **kwds)\n",
      "C:\\Users\\Gab\\Anaconda3\\lib\\importlib\\_bootstrap.py:219: RuntimeWarning: cymem.cymem.Address size changed, may indicate binary incompatibility. Expected 24 from C header, got 40 from PyObject\n",
      "  return f(*args, **kwds)\n"
     ]
    }
   ],
   "source": [
    "from topic import Topic_Modeling\n",
    "from senti import Sentiment\n",
    "import warnings\n",
    "warnings.filterwarnings('ignore')"
   ]
  },
  {
   "cell_type": "markdown",
   "metadata": {},
   "source": [
    "# Build Sentiment Analysis Model"
   ]
  },
  {
   "cell_type": "code",
   "execution_count": 2,
   "metadata": {},
   "outputs": [
    {
     "name": "stdout",
     "output_type": "stream",
     "text": [
      "[debug] stopwords\n",
      "[nltk_data] Downloading package stopwords to C:\\nltk_data...\n",
      "[nltk_data]   Package stopwords is already up-to-date!\n",
      "[nltk_data] Downloading package wordnet to C:\\nltk_data...\n",
      "[nltk_data]   Package wordnet is already up-to-date!\n",
      "[debug] tokenize\n",
      "Words in tokenized data:  24577\n",
      "Unique tokens: 5630\n"
     ]
    }
   ],
   "source": [
    "s = Sentiment()\n",
    "s.tokenize_data()"
   ]
  },
  {
   "cell_type": "code",
   "execution_count": 3,
   "metadata": {},
   "outputs": [],
   "source": [
    "s.create_word2vec()"
   ]
  },
  {
   "cell_type": "code",
   "execution_count": 4,
   "metadata": {},
   "outputs": [
    {
     "name": "stdout",
     "output_type": "stream",
     "text": [
      "Word: love, score: 1\n",
      "\n",
      "Word: eating\n",
      "Nearest labelled word: stress, score: -0.6026171445846558\n",
      "\n"
     ]
    },
    {
     "data": {
      "text/plain": [
       "0.19869142770767212"
      ]
     },
     "execution_count": 4,
     "metadata": {},
     "output_type": "execute_result"
    }
   ],
   "source": [
    "sentence = \"I love eating\"\n",
    "s.get_sentiment(sentence)"
   ]
  },
  {
   "cell_type": "markdown",
   "metadata": {},
   "source": [
    "# Build Topic Modelling Model"
   ]
  },
  {
   "cell_type": "code",
   "execution_count": 5,
   "metadata": {},
   "outputs": [
    {
     "name": "stdout",
     "output_type": "stream",
     "text": [
      "[debug] stopwords\n",
      "[nltk_data] Downloading package stopwords to C:\\nltk_data...\n",
      "[nltk_data]   Package stopwords is already up-to-date!\n",
      "[nltk_data] Downloading package wordnet to C:\\nltk_data...\n",
      "[nltk_data]   Package wordnet is already up-to-date!\n"
     ]
    }
   ],
   "source": [
    "t = Topic_Modeling()\n",
    "# Integrate sentiment analysis\n",
    "t.s = s"
   ]
  },
  {
   "cell_type": "code",
   "execution_count": 6,
   "metadata": {},
   "outputs": [],
   "source": [
    "t.tokenize()"
   ]
  },
  {
   "cell_type": "code",
   "execution_count": 7,
   "metadata": {},
   "outputs": [
    {
     "name": "stdout",
     "output_type": "stream",
     "text": [
      "[debug] creating bigrams\n"
     ]
    }
   ],
   "source": [
    "t.create_bigrams(t.data_words, min_count=5)"
   ]
  },
  {
   "cell_type": "code",
   "execution_count": 8,
   "metadata": {},
   "outputs": [
    {
     "name": "stdout",
     "output_type": "stream",
     "text": [
      "[debug] creating trigrams\n"
     ]
    }
   ],
   "source": [
    "t.create_trigrams(t.bigram)"
   ]
  },
  {
   "cell_type": "code",
   "execution_count": 9,
   "metadata": {},
   "outputs": [
    {
     "name": "stdout",
     "output_type": "stream",
     "text": [
      "[debug] lemmatize\n"
     ]
    }
   ],
   "source": [
    "t.lemmatize_data()"
   ]
  },
  {
   "cell_type": "code",
   "execution_count": 10,
   "metadata": {},
   "outputs": [
    {
     "name": "stdout",
     "output_type": "stream",
     "text": [
      "[debug] creating corpus\n"
     ]
    }
   ],
   "source": [
    "t.create_corpus()"
   ]
  },
  {
   "cell_type": "code",
   "execution_count": 11,
   "metadata": {},
   "outputs": [
    {
     "name": "stdout",
     "output_type": "stream",
     "text": [
      "[debug] building LDA model\n",
      "Coherence Score:  0.42995811132962913\n"
     ]
    }
   ],
   "source": [
    "t.build_LDA()"
   ]
  },
  {
   "cell_type": "code",
   "execution_count": 12,
   "metadata": {
    "scrolled": true
   },
   "outputs": [
    {
     "name": "stdout",
     "output_type": "stream",
     "text": [
      "[(0,\n",
      "  '0.133*\"friend\" + 0.070*\"make\" + 0.044*\"good\" + 0.042*\"meet\" + 0.036*\"life\" '\n",
      "  '+ 0.027*\"part\" + 0.024*\"share\" + 0.023*\"stay\" + 0.021*\"hurt\" + '\n",
      "  '0.021*\"internet\"'),\n",
      " (1,\n",
      "  '0.070*\"student\" + 0.068*\"ateneo\" + 0.053*\"admu\" + 0.051*\"atenean\" + '\n",
      "  '0.044*\"post\" + 0.023*\"single\" + 0.022*\"https_www\" + 0.020*\"https\" + '\n",
      "  '0.019*\"choose\" + 0.015*\"dlsu\"'),\n",
      " (2,\n",
      "  '0.041*\"back\" + 0.038*\"love\" + 0.026*\"break\" + 0.024*\"page\" + 0.022*\"heart\" '\n",
      "  '+ 0.022*\"final\" + 0.020*\"blue\" + 0.018*\"water\" + 0.018*\"opinion\" + '\n",
      "  '0.016*\"bit\"'),\n",
      " (3,\n",
      "  '0.085*\"give\" + 0.061*\"hard\" + 0.031*\"problem\" + 0.028*\"bring\" + '\n",
      "  '0.028*\"hope\" + 0.027*\"show\" + 0.022*\"support\" + 0.020*\"join\" + '\n",
      "  '0.017*\"reason\" + 0.016*\"advice\"'),\n",
      " (4,\n",
      "  '0.074*\"ateneo\" + 0.073*\"game\" + 0.052*\"basketball\" + 0.051*\"watch\" + '\n",
      "  '0.030*\"uaap\" + 0.029*\"final\" + 0.028*\"team\" + 0.028*\"fan\" + 0.018*\"win\" + '\n",
      "  '0.016*\"player\"'),\n",
      " (5,\n",
      "  '0.274*\"people\" + 0.038*\"group\" + 0.035*\"person\" + 0.027*\"world\" + '\n",
      "  '0.024*\"long\" + 0.021*\"cheat\" + 0.017*\"online\" + 0.015*\"change\" + '\n",
      "  '0.014*\"put\" + 0.013*\"effort\"'),\n",
      " (6,\n",
      "  '0.064*\"fuck\" + 0.057*\"shit\" + 0.025*\"prof\" + 0.023*\"grade\" + 0.020*\"money\" '\n",
      "  '+ 0.018*\"graduate\" + 0.017*\"whatev\" + 0.015*\"major\" + 0.015*\"fucking\" + '\n",
      "  '0.013*\"ass\"'),\n",
      " (7,\n",
      "  '0.071*\"school\" + 0.026*\"understand\" + 0.024*\"fall\" + 0.020*\"word\" + '\n",
      "  '0.018*\"campus\" + 0.018*\"real\" + 0.017*\"offer\" + 0.017*\"rz\" + 0.017*\"jesuit\" '\n",
      "  '+ 0.017*\"pay\"'),\n",
      " (8,\n",
      "  '0.043*\"cute\" + 0.035*\"doo_doo\" + 0.032*\"pass\" + 0.030*\"tag\" + 0.028*\"great\" '\n",
      "  '+ 0.025*\"open\" + 0.023*\"block\" + 0.019*\"damn\" + 0.017*\"wear\" + '\n",
      "  '0.015*\"freshie\"'),\n",
      " (9,\n",
      "  '0.105*\"make\" + 0.050*\"life\" + 0.048*\"leave\" + 0.034*\"guess\" + 0.027*\"kind\" '\n",
      "  '+ 0.025*\"ill\" + 0.025*\"die\" + 0.023*\"chance\" + 0.022*\"joke\" + 0.021*\"mind\"'),\n",
      " (10,\n",
      "  '0.125*\"thing\" + 0.054*\"call\" + 0.040*\"hate\" + 0.039*\"lot\" + 0.038*\"wrong\" + '\n",
      "  '0.025*\"happen\" + 0.024*\"realize\" + 0.022*\"agree\" + 0.017*\"fight\" + '\n",
      "  '0.016*\"center\"'),\n",
      " (11,\n",
      "  '0.078*\"love\" + 0.057*\"good\" + 0.041*\"place\" + 0.031*\"time\" + 0.031*\"day\" + '\n",
      "  '0.026*\"coco\" + 0.023*\"month\" + 0.021*\"nice\" + 0.020*\"ago\" + 0.017*\"wait\"'),\n",
      " (12,\n",
      "  '0.073*\"work\" + 0.065*\"post\" + 0.044*\"person\" + 0.038*\"study\" + 0.031*\"sem\" '\n",
      "  '+ 0.025*\"end\" + 0.020*\"email\" + 0.017*\"week\" + 0.017*\"form\" + 0.016*\"step\"'),\n",
      " (13,\n",
      "  '0.047*\"bad\" + 0.030*\"hope\" + 0.026*\"point\" + 0.025*\"lose\" + '\n",
      "  '0.023*\"community\" + 0.021*\"learn\" + 0.021*\"turn\" + 0.021*\"care\" + '\n",
      "  '0.020*\"deserve\" + 0.019*\"duterte\"'),\n",
      " (14,\n",
      "  '0.036*\"car\" + 0.022*\"improve\" + 0.019*\"engine\" + 0.017*\"front\" + '\n",
      "  '0.016*\"nismo\" + 0.016*\"tune\" + 0.014*\"end\" + 0.014*\"fine\" + 0.012*\"track\" + '\n",
      "  '0.011*\"replace\"'),\n",
      " (15,\n",
      "  '0.126*\"guy\" + 0.069*\"girl\" + 0.053*\"year\" + 0.036*\"good\" + 0.017*\"head\" + '\n",
      "  '0.017*\"beautiful\" + 0.016*\"walk\" + 0.014*\"face\" + 0.013*\"moment\" + '\n",
      "  '0.012*\"happen\"'),\n",
      " (16,\n",
      "  '0.135*\"feel\" + 0.081*\"time\" + 0.074*\"talk\" + 0.050*\"start\" + 0.045*\"find\" + '\n",
      "  '0.030*\"wanna\" + 0.022*\"anymore\" + 0.021*\"family\" + 0.020*\"stop\" + '\n",
      "  '0.020*\"happy\"'),\n",
      " (17,\n",
      "  '0.086*\"class\" + 0.063*\"miss\" + 0.031*\"sad\" + 0.028*\"day\" + 0.024*\"home\" + '\n",
      "  '0.023*\"night\" + 0.019*\"college\" + 0.019*\"meme\" + 0.016*\"run\" + 0.015*\"eye\"'),\n",
      " (18,\n",
      "  '0.048*\"play\" + 0.030*\"big\" + 0.029*\"country\" + 0.029*\"love\" + '\n",
      "  '0.023*\"university\" + 0.020*\"literally\" + 0.020*\"stop\" + 0.016*\"sport\" + '\n",
      "  '0.015*\"important\" + 0.014*\"kid\"'),\n",
      " (19,\n",
      "  '0.065*\"yung\" + 0.058*\"crush\" + 0.042*\"see_translation\" + 0.026*\"tangina\" + '\n",
      "  '0.017*\"sobrang\" + 0.016*\"filipino\" + 0.015*\"gusto\" + 0.014*\"putangina\" + '\n",
      "  '0.013*\"ticket\" + 0.013*\"tapos\"')]\n"
     ]
    }
   ],
   "source": [
    "t.show_model_topics()"
   ]
  },
  {
   "cell_type": "code",
   "execution_count": 13,
   "metadata": {},
   "outputs": [
    {
     "name": "stdout",
     "output_type": "stream",
     "text": [
      "Word: love, score: 1\n",
      "\n",
      "Word: eating\n",
      "Nearest labelled word: stress, score: -0.6026171445846558\n",
      "\n",
      "Sentiment: 0.19869142770767212\n",
      "Topic: 18\n"
     ]
    }
   ],
   "source": [
    "text = \"I love eating\"\n",
    "t.get_sentence(text)"
   ]
  }
 ],
 "metadata": {
  "kernelspec": {
   "display_name": "Python 3",
   "language": "python",
   "name": "python3"
  },
  "language_info": {
   "codemirror_mode": {
    "name": "ipython",
    "version": 3
   },
   "file_extension": ".py",
   "mimetype": "text/x-python",
   "name": "python",
   "nbconvert_exporter": "python",
   "pygments_lexer": "ipython3",
   "version": "3.7.0"
  }
 },
 "nbformat": 4,
 "nbformat_minor": 2
}
