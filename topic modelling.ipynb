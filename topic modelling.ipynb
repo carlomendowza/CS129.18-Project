{
 "cells": [
  {
   "cell_type": "code",
   "execution_count": 2,
   "metadata": {},
   "outputs": [],
   "source": [
    "SOURCE_FILE = 'posts_data.csv'\n",
    "import numpy as np\n",
    "import pandas as pd"
   ]
  },
  {
   "cell_type": "code",
   "execution_count": 3,
   "metadata": {},
   "outputs": [],
   "source": [
    "df = pd.read_csv(SOURCE_FILE)"
   ]
  },
  {
   "cell_type": "code",
   "execution_count": 4,
   "metadata": {},
   "outputs": [
    {
     "data": {
      "text/plain": [
       "0                                Does anyone get blisters on their feet from walking so much around school?\n",
       "1       It's been a few months since that whole sexual harassment scandal rocked ateneo. The silence is ...\n",
       "2       I think the reason why we really hate Filipino in college is not because of the language, but th...\n",
       "3       Tangina this OBF wifi is pure shit. \\r\\nTo all those people who say that there are thousands of ...\n",
       "4       Sometimes mood: puTanGinAaaAAaAa\\r\\n\\r\\n24/7 mood: putangina  But current mood: putANGINAAAAAA U...\n",
       "5       The Marisol PA announcements really need more thought and effort put into them :((\\r\\nI honestly...\n",
       "6                              https://tonite.abante.com.ph/ateneo-student-ginulpi-hinolda…\\r\\n\\r\\nTag away\n",
       "7                                                                     GRABE ANG LUBAK SA COVERED COURTS WTF\n",
       "8                              I'm free-falling and I'm not sure if you're there to catch me at the bottom.\n",
       "9       I thought that the east carpark is strictly for students only? Why is there a white Innova parke...\n",
       "10      Why is “anti-poor” considered a bad word in politics?\\r\\n\\r\\nIf poor people squat on your land, ...\n",
       "11                                           why do none of the sockets in the old lib work hsjsgfdhkfjklhs\n",
       "12                Stop using mental health to complain about school difficulty. Real life is much harder!!!\n",
       "13      To #ADMUFreedomWall17019 and #ADMUFreedomWall 16791\\r\\n\\r\\nI feel you guys. I’m an oldie of the ...\n",
       "14      i dreamt that this girl from my org and i were making momol and it's so weird and i don't want t...\n",
       "15      What is the least painful way to kill yourself? I wanna die but like I just dont want to inflict...\n",
       "16      Okay so I haven't had any sleep and was wandering around ateneo playing Pokemon Go when I was pa...\n",
       "17                         any tips how to make landi with a girl you’re not close with but you want to be?\n",
       "18                  #ADMUFreedomWall17028\\r\\n\\r\\nI've heard that quite a number of them graduated from AHS.\n",
       "19                    So which is better, Dell Xps 13 9370 or 2018 Macbook Pro 13\"??? Need them opinions :D\n",
       "20                                                                                              I WANT LOVE\n",
       "21      When you just wanna get to the Sakamura stall in gonz but the line to Sutra is so long na abot h...\n",
       "22      We were living so peacefully at the beginning, until people from outside these islands came and ...\n",
       "23      Let's just remember, that there was a point in history where we were privileged to have somethin...\n",
       "24      Tangina naman oh kahit winasak mo ako, kahit araw-araw akong namamatay dahil sa'yo... kahit ang ...\n",
       "25      Am i the only atenean na natatakot sa nangyayari inside upd? Like this guys from downsilon can k...\n",
       "26      I miss my S.O. back at home so bad... I've been restless for the past couple of weeks and I can'...\n",
       "27                                                                                       Hayss. This group.\n",
       "28           i'd take photos of the Carrie photographer but photography isn't allowed daw in the theater :(\n",
       "29                                    people trying to save endangered species want to see the animals fuck\n",
       "                                                       ...                                                 \n",
       "1633    Why are Physics majors the cutest in Ateneo? There's this one guy in Tanghalang Ateneo and there...\n",
       "1634    To all the sadboi/sadgorl posts about confessing to the ones they admire and have “failed”, at l...\n",
       "1635                                                                          ba't ang solid ng lions orgs?\n",
       "1636                           anong gagawin mo pag sinisiraan ka ng isang lalaki dahil may gusto siya sayo\n",
       "1637                                                  Ok.\\r\\n\\r\\n-The God King, Destroyer of Worlds, Rammus\n",
       "1638    11/10 would highly recommend walking around campus in mid-afternoon (3-4 ish) while listening to...\n",
       "1639                                                        Dami niyong oras mag facebook ah. Pahingi naman\n",
       "1640    Re: ADMU STUDY BUDDY\\r\\n\\r\\nHellooo again! The original post (#ADMUFreedomWall8600) had more tha...\n",
       "1641                                                                         show love to your homies pt. 2\n",
       "1642                                                                                                m o o d\n",
       "1643                                           try to resist kim jisoo, i dare you\\r\\n\\r\\n-blinkgodfromadmu\n",
       "1644    WHO'S THE SUPER COOL COP?\\r\\nALWAYS GETS THE BAD GUY (DONUT BOY)\\r\\nTHAT'S ME YEAH.\\r\\n HE BRING...\n",
       "1645    I want to build a parking building in ateneo.\\r\\n\\r\\nO U R S A C R E D G R O V E I S B E I N G D...\n",
       "1646    I like it when boyfriend asks me to do stuff for him so I can tease back about his love of warcr...\n",
       "1647                                                       Why would one despair if they are Machiavellian?\n",
       "1648                                                                            tag cute & single MEAns! :)\n",
       "1649                                                                               I want to be stepped on.\n",
       "1650                                               Please give me manga or webcomic suggestions, plz ty uwu\n",
       "1651                                                                                                    OOF\n",
       "1652    Eagle: Even in the heart of Regis, Iskos can still feel fear.\\r\\n\\r\\n*spear falls from the sky i...\n",
       "1653    I have this massive fetish for tall girls and as a short guy in comparison I secretly imagine th...\n",
       "1654    If you're a senior, try going to admu early in the morning and just sit somewhere by yourself an...\n",
       "1655                                                                                                m o o d\n",
       "1656    Note: 99% of Ateneans don't agree with the \"many UP students being in Regis are annoying\" post.\\...\n",
       "1657                             I swear my doods, sao is gonna be the best anime by the end of the season.\n",
       "1658                                                                                 Tag your crush's crush\n",
       "1659    I feel so helpless right now. I hate college and the people in it, I really don't know what I sh...\n",
       "1660    AHHHHHHHHHHHHHHHHHHHHHHHHHHHHHHHHHHHHHHH\\r\\nFUUUUUUUUUUUUUUUUUUUUUUUUUUUUUUUUUUUUUUUUUUUUUUUUUUU...\n",
       "1661                                                      when u play big fish but u want to make landi rin\n",
       "1662    Try, try, try, to follow the rules\\r\\nI'll break every one of them with girls like you\\r\\nMy, oh...\n",
       "Name: Body, Length: 1663, dtype: object"
      ]
     },
     "execution_count": 4,
     "metadata": {},
     "output_type": "execute_result"
    }
   ],
   "source": [
    "pd.options.display.max_colwidth = 100\n",
    "df['Body']"
   ]
  },
  {
   "cell_type": "markdown",
   "metadata": {},
   "source": [
    "Clean Up"
   ]
  },
  {
   "cell_type": "code",
   "execution_count": 5,
   "metadata": {},
   "outputs": [
    {
     "ename": "ModuleNotFoundError",
     "evalue": "No module named 'gensim'",
     "output_type": "error",
     "traceback": [
      "\u001b[1;31m---------------------------------------------------------------------------\u001b[0m",
      "\u001b[1;31mModuleNotFoundError\u001b[0m                       Traceback (most recent call last)",
      "\u001b[1;32m<ipython-input-5-a4cc5e3c8def>\u001b[0m in \u001b[0;36m<module>\u001b[1;34m()\u001b[0m\n\u001b[1;32m----> 1\u001b[1;33m \u001b[1;32mimport\u001b[0m \u001b[0mgensim\u001b[0m\u001b[1;33m\u001b[0m\u001b[0m\n\u001b[0m\u001b[0;32m      2\u001b[0m \u001b[1;32mfrom\u001b[0m \u001b[0mgensim\u001b[0m\u001b[1;33m.\u001b[0m\u001b[0mutils\u001b[0m \u001b[1;32mimport\u001b[0m \u001b[0msimple_preprocess\u001b[0m\u001b[1;33m\u001b[0m\u001b[0m\n\u001b[0;32m      3\u001b[0m \u001b[1;32mfrom\u001b[0m \u001b[0mgensim\u001b[0m\u001b[1;33m.\u001b[0m\u001b[0mparsing\u001b[0m\u001b[1;33m.\u001b[0m\u001b[0mpreprocessing\u001b[0m \u001b[1;32mimport\u001b[0m \u001b[0mSTOPWORDS\u001b[0m\u001b[1;33m\u001b[0m\u001b[0m\n\u001b[0;32m      4\u001b[0m \u001b[1;32mfrom\u001b[0m \u001b[0mnltk\u001b[0m\u001b[1;33m.\u001b[0m\u001b[0mstem\u001b[0m \u001b[1;32mimport\u001b[0m \u001b[0mWordNetLemmatizer\u001b[0m\u001b[1;33m,\u001b[0m \u001b[0mSnowballStemmer\u001b[0m\u001b[1;33m\u001b[0m\u001b[0m\n\u001b[0;32m      5\u001b[0m \u001b[1;32mfrom\u001b[0m \u001b[0mnltk\u001b[0m\u001b[1;33m.\u001b[0m\u001b[0mstem\u001b[0m\u001b[1;33m.\u001b[0m\u001b[0mporter\u001b[0m \u001b[1;32mimport\u001b[0m \u001b[1;33m*\u001b[0m\u001b[1;33m\u001b[0m\u001b[0m\n",
      "\u001b[1;31mModuleNotFoundError\u001b[0m: No module named 'gensim'"
     ]
    }
   ],
   "source": [
    "import gensim\n",
    "from gensim.utils import simple_preprocess\n",
    "from gensim.parsing.preprocessing import STOPWORDS\n",
    "from nltk.stem import WordNetLemmatizer, SnowballStemmer\n",
    "from nltk.stem.porter import *\n",
    "import numpy as np\n",
    "np.random.seed(2018)\n",
    "\n",
    "import nltk\n",
    "nltk.download('wordnet')"
   ]
  },
  {
   "cell_type": "code",
   "execution_count": null,
   "metadata": {},
   "outputs": [],
   "source": [
    "def lemmatize_stemming(text):\n",
    "    return stemmer.stem(WordNetLemmatizer().lemmatize(text, pos='v'))\n",
    "\n",
    "def preprocess(text):\n",
    "    result = []\n",
    "    for token in gensim.utils.simple_preprocess(text):\n",
    "        if token not in gensim.parsing.preprocessing.STOPWORDS and len(token) > 3:\n",
    "            result.append(lemmatize_stemming(token))\n",
    "        return result"
   ]
  },
  {
   "cell_type": "code",
   "execution_count": 6,
   "metadata": {},
   "outputs": [
    {
     "ename": "NameError",
     "evalue": "name 'documents' is not defined",
     "output_type": "error",
     "traceback": [
      "\u001b[1;31m---------------------------------------------------------------------------\u001b[0m",
      "\u001b[1;31mNameError\u001b[0m                                 Traceback (most recent call last)",
      "\u001b[1;32m<ipython-input-6-dbbfb6da6550>\u001b[0m in \u001b[0;36m<module>\u001b[1;34m()\u001b[0m\n\u001b[1;32m----> 1\u001b[1;33m \u001b[0mprocessed_docs\u001b[0m \u001b[1;33m=\u001b[0m \u001b[0mdocuments\u001b[0m\u001b[1;33m[\u001b[0m\u001b[1;34m'headline_text'\u001b[0m\u001b[1;33m]\u001b[0m\u001b[1;33m.\u001b[0m\u001b[0mmap\u001b[0m\u001b[1;33m(\u001b[0m\u001b[0mpreprocess\u001b[0m\u001b[1;33m)\u001b[0m\u001b[1;33m\u001b[0m\u001b[0m\n\u001b[0m\u001b[0;32m      2\u001b[0m \u001b[0mprocessed_docs\u001b[0m\u001b[1;33m[\u001b[0m\u001b[1;33m:\u001b[0m\u001b[1;36m10\u001b[0m\u001b[1;33m]\u001b[0m\u001b[1;33m\u001b[0m\u001b[0m\n",
      "\u001b[1;31mNameError\u001b[0m: name 'documents' is not defined"
     ]
    }
   ],
   "source": [
    "processed_docs = documents['headline_text'].map(preprocess)\n",
    "processed_docs[:10]"
   ]
  },
  {
   "cell_type": "markdown",
   "metadata": {},
   "source": [
    "Bag of Words"
   ]
  },
  {
   "cell_type": "code",
   "execution_count": null,
   "metadata": {},
   "outputs": [],
   "source": [
    "dictionary = gensim.corpora.Dictionary(processed_docs)\n",
    "\n",
    "count = 0\n",
    "for k, v in dictionary.iteritems():\n",
    "    print(k, v)\n",
    "    count += 1\n",
    "    if count > 10:\n",
    "        break\n",
    "        \n",
    "dictionary.filter_extremes(no_below=15, no_above=0.5, keep_n=100000)"
   ]
  }
 ],
 "metadata": {
  "kernelspec": {
   "display_name": "Python 3",
   "language": "python",
   "name": "python3"
  },
  "language_info": {
   "codemirror_mode": {
    "name": "ipython",
    "version": 3
   },
   "file_extension": ".py",
   "mimetype": "text/x-python",
   "name": "python",
   "nbconvert_exporter": "python",
   "pygments_lexer": "ipython3",
   "version": "3.7.0"
  }
 },
 "nbformat": 4,
 "nbformat_minor": 2
}
